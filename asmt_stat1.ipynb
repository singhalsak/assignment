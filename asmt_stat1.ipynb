{
 "cells": [
  {
   "cell_type": "code",
   "execution_count": 3,
   "id": "8ae3388e",
   "metadata": {},
   "outputs": [],
   "source": [
    "from collections import Counter"
   ]
  },
  {
   "cell_type": "markdown",
   "id": "3037e0cb",
   "metadata": {},
   "source": [
    "# problem 1 and 2"
   ]
  },
  {
   "cell_type": "code",
   "execution_count": 4,
   "id": "39ba2098",
   "metadata": {},
   "outputs": [],
   "source": [
    "def mean_fun(lst):\n",
    "    mn = sum(lst)/len(lst)\n",
    "    return mn"
   ]
  },
  {
   "cell_type": "code",
   "execution_count": 5,
   "id": "0318c0fb",
   "metadata": {},
   "outputs": [],
   "source": [
    "def median_fun(lst):\n",
    "    n = len(lst)\n",
    "    lst = sorted(lst)\n",
    "    if len(lst)%2==0:\n",
    "        med = (lst[int(n/2)] + lst[int((n/2)+1)])/2\n",
    "    else:\n",
    "        med = lst[int((n)/2)]\n",
    "    return int(med)"
   ]
  },
  {
   "cell_type": "code",
   "execution_count": 6,
   "id": "35c1281a",
   "metadata": {},
   "outputs": [],
   "source": [
    "  \n",
    "def mode_fun(lst):\n",
    "    l = Counter(lst)\n",
    "    mod = []\n",
    "    maxValue = max(l.items(), key = lambda x: x[1])\n",
    "    for key, value in l.items():\n",
    "        if value == maxValue[1]:\n",
    "            mod.append(key)\n",
    "    return mod\n",
    "    \n",
    "   "
   ]
  },
  {
   "cell_type": "code",
   "execution_count": 7,
   "id": "5fa70b35",
   "metadata": {},
   "outputs": [],
   "source": [
    "def std_dev_fun(lst):\n",
    "    n = len(lst)\n",
    "    meanValue = mean_fun(lst)\n",
    "    bracketSum = 0\n",
    "    for i in range(len(lst)):\n",
    "        bracketSum = bracketSum + ((lst[i]-meanValue)**2)\n",
    "    std = (bracketSum/(n-1))**0.5\n",
    "    return std"
   ]
  },
  {
   "cell_type": "code",
   "execution_count": 8,
   "id": "ba3bb41f",
   "metadata": {},
   "outputs": [],
   "source": [
    "marks = [6 ,7, 5, 7 ,7 ,8, 7 ,6, 9, 7, 4 ,10, 6 ,8, 8, 9, 5, 6, 4 ,8]"
   ]
  },
  {
   "cell_type": "code",
   "execution_count": 9,
   "id": "458d5c72",
   "metadata": {},
   "outputs": [
    {
     "data": {
      "text/plain": [
       "6.85"
      ]
     },
     "execution_count": 9,
     "metadata": {},
     "output_type": "execute_result"
    }
   ],
   "source": [
    "mean_fun(marks)"
   ]
  },
  {
   "cell_type": "code",
   "execution_count": 10,
   "id": "ae90235e",
   "metadata": {},
   "outputs": [
    {
     "data": {
      "text/plain": [
       "7"
      ]
     },
     "execution_count": 10,
     "metadata": {},
     "output_type": "execute_result"
    }
   ],
   "source": [
    "median_fun(marks)"
   ]
  },
  {
   "cell_type": "code",
   "execution_count": 11,
   "id": "2f69806e",
   "metadata": {},
   "outputs": [
    {
     "data": {
      "text/plain": [
       "[7]"
      ]
     },
     "execution_count": 11,
     "metadata": {},
     "output_type": "execute_result"
    }
   ],
   "source": [
    "mode_fun(marks)"
   ]
  },
  {
   "cell_type": "code",
   "execution_count": 12,
   "id": "78d2f712",
   "metadata": {},
   "outputs": [
    {
     "data": {
      "text/plain": [
       "1.6311119875071343"
      ]
     },
     "execution_count": 12,
     "metadata": {},
     "output_type": "execute_result"
    }
   ],
   "source": [
    "std_dev_fun(marks)"
   ]
  },
  {
   "cell_type": "code",
   "execution_count": 13,
   "id": "84e10aee",
   "metadata": {},
   "outputs": [],
   "source": [
    "calls = [28, 122, 217, 130, 120, 86, 80, 90, 140, 120, 70, 40, 145, 113, 90, 68, 174, 194, 170,\n",
    "100, 75, 104, 97, 75, 123, 100, 75, 104, 97, 75, 123, 100, 89, 120, 109]"
   ]
  },
  {
   "cell_type": "code",
   "execution_count": 14,
   "id": "49b0d694",
   "metadata": {},
   "outputs": [
    {
     "data": {
      "text/plain": [
       "107.51428571428572"
      ]
     },
     "execution_count": 14,
     "metadata": {},
     "output_type": "execute_result"
    }
   ],
   "source": [
    "mean_fun(calls)"
   ]
  },
  {
   "cell_type": "code",
   "execution_count": 15,
   "id": "50a3e317",
   "metadata": {},
   "outputs": [
    {
     "data": {
      "text/plain": [
       "100"
      ]
     },
     "execution_count": 15,
     "metadata": {},
     "output_type": "execute_result"
    }
   ],
   "source": [
    "median_fun(calls)"
   ]
  },
  {
   "cell_type": "code",
   "execution_count": 16,
   "id": "4a9ff0a3",
   "metadata": {},
   "outputs": [
    {
     "data": {
      "text/plain": [
       "[75]"
      ]
     },
     "execution_count": 16,
     "metadata": {},
     "output_type": "execute_result"
    }
   ],
   "source": [
    "mode_fun(calls)"
   ]
  },
  {
   "cell_type": "code",
   "execution_count": 17,
   "id": "2dcc82d4",
   "metadata": {},
   "outputs": [
    {
     "data": {
      "text/plain": [
       "39.33892805484411"
      ]
     },
     "execution_count": 17,
     "metadata": {},
     "output_type": "execute_result"
    }
   ],
   "source": [
    "std_dev_fun(calls)"
   ]
  },
  {
   "cell_type": "markdown",
   "id": "f6654279",
   "metadata": {},
   "source": [
    "# problem 3"
   ]
  },
  {
   "cell_type": "code",
   "execution_count": 18,
   "id": "f5b203be",
   "metadata": {},
   "outputs": [],
   "source": [
    "x = [0, 1, 2, 3, 4, 5]\n",
    "p = [0.09, 0.15, 0.40, 0.25, 0.10, 0.01]"
   ]
  },
  {
   "cell_type": "code",
   "execution_count": 19,
   "id": "ed375a08",
   "metadata": {},
   "outputs": [],
   "source": [
    "meanWorkOut = 0\n",
    "variance = 0\n",
    "for i in range(len(x)):\n",
    "    meanWorkOut = meanWorkOut + x[i]*p[i]\n",
    "\n",
    "for i in range(len(x)):\n",
    "    variance = variance + ((x[i]-meanWorkOut)**2)*p[i]"
   ]
  },
  {
   "cell_type": "code",
   "execution_count": 20,
   "id": "6373cdac",
   "metadata": {},
   "outputs": [
    {
     "data": {
      "text/plain": [
       "2.15"
      ]
     },
     "execution_count": 20,
     "metadata": {},
     "output_type": "execute_result"
    }
   ],
   "source": [
    "meanWorkOut"
   ]
  },
  {
   "cell_type": "code",
   "execution_count": 21,
   "id": "2644e12a",
   "metadata": {},
   "outputs": [
    {
     "data": {
      "text/plain": [
       "1.2275"
      ]
     },
     "execution_count": 21,
     "metadata": {},
     "output_type": "execute_result"
    }
   ],
   "source": [
    "variance"
   ]
  },
  {
   "cell_type": "markdown",
   "id": "c63a6b46",
   "metadata": {},
   "source": [
    "# problem 4"
   ]
  },
  {
   "cell_type": "code",
   "execution_count": 22,
   "id": "5bc2a566",
   "metadata": {},
   "outputs": [],
   "source": [
    "import numpy as np\n",
    "from scipy.integrate import quad\n",
    "import matplotlib.pyplot as plt"
   ]
  },
  {
   "cell_type": "code",
   "execution_count": 23,
   "id": "627a6cd2",
   "metadata": {},
   "outputs": [],
   "source": [
    "def f(x):\n",
    "    return 20*(np.e)**(-20*(x-12.5))"
   ]
  },
  {
   "cell_type": "code",
   "execution_count": 24,
   "id": "31a22dbd",
   "metadata": {},
   "outputs": [
    {
     "data": {
      "image/png": "[encoded data removed]",
      "text/plain": [
       "<Figure size 432x288 with 1 Axes>"
      ]
     },
     "metadata": {
      "needs_background": "light"
     },
     "output_type": "display_data"
    }
   ],
   "source": [
    "x = np.arange(12.5,13,0.001)\n",
    "plt.plot(x,f(x))\n",
    "plt.xlabel('x')\n",
    "plt.ylabel('f(x)')\n",
    "plt.fill_between(x, f(x), step=\"pre\", alpha=0.2)\n",
    "plt.show()"
   ]
  },
  {
   "cell_type": "code",
   "execution_count": 25,
   "id": "22f8e515",
   "metadata": {},
   "outputs": [],
   "source": [
    "res, err = quad(f,12.6,np.inf)"
   ]
  },
  {
   "cell_type": "code",
   "execution_count": 26,
   "id": "f1a7128f",
   "metadata": {},
   "outputs": [
    {
     "name": "stdout",
     "output_type": "stream",
     "text": [
      "proportion of parts to be scrapped if d > 12.6 mm is 13.533528 %\n",
      "CDF when the diameter is of 11 mm is 0\n"
     ]
    }
   ],
   "source": [
    "print('proportion of parts to be scrapped if d > 12.6 mm is {:f} %'.format(res*100))\n",
    "print('CDF when the diameter is of 11 mm is', 0)"
   ]
  },
  {
   "cell_type": "markdown",
   "id": "c2344ab6",
   "metadata": {},
   "source": [
    "# problem 5"
   ]
  },
  {
   "cell_type": "code",
   "execution_count": 27,
   "id": "595b7885",
   "metadata": {},
   "outputs": [],
   "source": [
    "import math as m"
   ]
  },
  {
   "cell_type": "code",
   "execution_count": 28,
   "id": "f7825dc0",
   "metadata": {},
   "outputs": [
    {
     "name": "stdout",
     "output_type": "stream",
     "text": [
      "probability of having 2 faulty LEDs in my sample is  0.3241349999999999\n",
      "mean and standard deviation of process are 1.800000 and 1.1225\n"
     ]
    }
   ],
   "source": [
    "p = 0.3\n",
    "q = 1 -p\n",
    "n = 6\n",
    "x = 2\n",
    "# finding binomial probability\n",
    "P = (m.comb(n,x))*(p**x)*(q**(n-x))\n",
    "print('probability of having 2 faulty LEDs in my sample is ', P)\n",
    "avg = n*p\n",
    "std = m.sqrt(n*p*(1-p))\n",
    "print('mean and standard deviation of process are {:f} and {:g}'.format(avg,std))"
   ]
  },
  {
   "cell_type": "markdown",
   "id": "14552818",
   "metadata": {},
   "source": [
    "# problem 6"
   ]
  },
  {
   "cell_type": "code",
   "execution_count": 29,
   "id": "f8882192",
   "metadata": {},
   "outputs": [],
   "source": [
    "from scipy.stats import binom"
   ]
  },
  {
   "cell_type": "code",
   "execution_count": 30,
   "id": "7785e266",
   "metadata": {},
   "outputs": [
    {
     "name": "stdout",
     "output_type": "stream",
     "text": [
      "probability that Gaurav and Barkha will solve 5 questions correctly are 0.207642 and 0.222498\n",
      "probability that Gaurav and Barkha will solve 4 questions correctly are 0.086517 and 0.169964\n",
      "probability that Gaurav and Barkha will solve 6 questions correctly are 0.311462 and 0.212385\n"
     ]
    }
   ],
   "source": [
    "n_g = 8\n",
    "p_g = 0.75\n",
    "n_b = 12\n",
    "p_b = 0.45\n",
    "\n",
    "xval_g = list(range(n_g+1))\n",
    "binDist_g = [binom.pmf(x, n_g, p_g) for x in xval_g]\n",
    "\n",
    "xval_b = list(range(n_b+1))\n",
    "binDist_b = [binom.pmf(x, n_b, p_b) for x in xval_b]\n",
    "\n",
    "print('probability that Gaurav and Barkha will solve 5 questions correctly are {:f} and {:g}'.format(binDist_g[5], binDist_b[5]))\n",
    "\n",
    "print('probability that Gaurav and Barkha will solve 4 questions correctly are {:f} and {:g}'.format(binDist_g[4], binDist_b[4]))\n",
    "\n",
    "print('probability that Gaurav and Barkha will solve 6 questions correctly are {:f} and {:g}'.format(binDist_g[6], binDist_b[6]))\n"
   ]
  },
  {
   "cell_type": "markdown",
   "id": "1a3d4c11",
   "metadata": {},
   "source": [
    "the two main governing factors affecting their ability to solve questions correctly are:\n",
    "1. correction rate\n",
    "2. number of questions solved per day"
   ]
  },
  {
   "cell_type": "code",
   "execution_count": 31,
   "id": "7837a225",
   "metadata": {},
   "outputs": [
    {
     "data": {
      "image/png": "[encoded data removed]",
      "text/plain": [
       "<Figure size 720x360 with 2 Axes>"
      ]
     },
     "metadata": {
      "needs_background": "light"
     },
     "output_type": "display_data"
    }
   ],
   "source": [
    "fig = plt.figure(figsize=(10,5))\n",
    "plt.subplot(1,2,1)\n",
    "plt.bar(xval_g, binDist_g)\n",
    "plt.xlabel('No. of questions solved correctly')\n",
    "plt.ylabel('Probability of solving questions')\n",
    "plt.title('Gaurav\\'s probability distirbution')\n",
    "\n",
    "plt.subplot(1,2,2)\n",
    "plt.bar(xval_b, binDist_b)\n",
    "plt.xlabel('No. of questions solved correctly')\n",
    "plt.ylabel('Probability of solving questions')\n",
    "plt.title('Barkha\\'s probability distirbution')\n",
    "plt.show()"
   ]
  },
  {
   "cell_type": "markdown",
   "id": "8042bae5",
   "metadata": {},
   "source": [
    "as number of questions solving per day increases, skewness decreases"
   ]
  },
  {
   "cell_type": "markdown",
   "id": "ef837525",
   "metadata": {},
   "source": [
    "# problem 7"
   ]
  },
  {
   "cell_type": "code",
   "execution_count": 32,
   "id": "aaf1a1d9",
   "metadata": {},
   "outputs": [],
   "source": [
    "from scipy.stats import poisson\n",
    "import seaborn as sns"
   ]
  },
  {
   "cell_type": "code",
   "execution_count": 33,
   "id": "b3f12323",
   "metadata": {},
   "outputs": [
    {
     "name": "stdout",
     "output_type": "stream",
     "text": [
      "probability of 5 customers arriving in 4 minutes is  0.175\n",
      "probability of not more than 3 customers arriving in 4 minutes is  0.294\n",
      "probability of more than 3 customers arriving in 4 minutes is  0.706\n"
     ]
    },
    {
     "name": "stderr",
     "output_type": "stream",
     "text": [
      "C:\\Users\\Sakshi Singhal\\anaconda3\\lib\\site-packages\\seaborn\\distributions.py:2557: FutureWarning: `distplot` is a deprecated function and will be removed in a future version. Please adapt your code to use either `displot` (a figure-level function with similar flexibility) or `histplot` (an axes-level function for histograms).\n",
      "  warnings.warn(msg, FutureWarning)\n"
     ]
    },
    {
     "data": {
      "image/png": "[encoded data removed]",
      "text/plain": [
       "<Figure size 432x288 with 1 Axes>"
      ]
     },
     "metadata": {
      "needs_background": "light"
     },
     "output_type": "display_data"
    }
   ],
   "source": [
    "lmda = (72/60)*4\n",
    "p1 = poisson.pmf(5,lmda)\n",
    "p2 = poisson.cdf(3,lmda)\n",
    "p3 = 1 -p2\n",
    "print('probability of 5 customers arriving in 4 minutes is ',p1.round(3))\n",
    "print('probability of not more than 3 customers arriving in 4 minutes is ',p2.round(3))\n",
    "print('probability of more than 3 customers arriving in 4 minutes is ',p3.round(3))\n",
    "\n",
    "poisData= poisson.rvs(lmda, size =1000) # to generate random numbers for plotting graph\n",
    "fig = sns.distplot(poisData, hist = True, kde = True)\n",
    "fig.set(xlabel = 'Customers per 4 min')\n",
    "plt.show()"
   ]
  },
  {
   "cell_type": "markdown",
   "id": "420cbfaa",
   "metadata": {},
   "source": [
    "# problem 8"
   ]
  },
  {
   "cell_type": "code",
   "execution_count": 43,
   "id": "9e166956",
   "metadata": {},
   "outputs": [
    {
     "name": "stdout",
     "output_type": "stream",
     "text": [
      "probability to commit 2 errors in a 455, 1000 and 255 word financial report are 0.096690, 0.230128 and 0.039377\n"
     ]
    }
   ],
   "source": [
    "p_err = 0.1\n",
    "lmda1 = (455/77)*p_err\n",
    "lmda2 = (1000/77)*p_err\n",
    "lmda3 = (255/77)*p_err\n",
    "\n",
    "p_err1 = poisson.pmf(2,lmda1)\n",
    "p_err2 = poisson.pmf(2,lmda2)\n",
    "p_err3 = poisson.pmf(2,lmda3)\n",
    "print('probability to commit 2 errors in a 455, 1000 and 255 word financial report are {:f}, {:f} and {:f}'.format(p_err1, \n",
    "    p_err2, p_err3))"
   ]
  },
  {
   "cell_type": "markdown",
   "id": "389f76d0",
   "metadata": {},
   "source": [
    "As no. of words increase, value of lambda which is expected rate of error also increases.\n"
   ]
  },
  {
   "cell_type": "markdown",
   "id": "2d00db96",
   "metadata": {},
   "source": [
    "PMF also increases with increase in lambda"
   ]
  },
  {
   "cell_type": "code",
   "execution_count": 55,
   "id": "64de5210",
   "metadata": {},
   "outputs": [
    {
     "data": {
      "image/png": "[encoded data removed]",
      "text/plain": [
       "<Figure size 432x288 with 1 Axes>"
      ]
     },
     "metadata": {
      "needs_background": "light"
     },
     "output_type": "display_data"
    }
   ],
   "source": [
    "x = np.arange(0,10)\n",
    "plt.plot(x, poisson.pmf(x,lmda1), label = 'lambda = 0.59')\n",
    "plt.plot(x, poisson.pmf(x,lmda2), label = 'lambda = 1.29')\n",
    "plt.plot(x, poisson.pmf(x,lmda3), label = 'lambda = 0.33')\n",
    "plt.xlabel('no. of errors')\n",
    "plt.ylabel('probability')\n",
    "plt.legend()\n",
    "plt.show()\n",
    "\n"
   ]
  },
  {
   "cell_type": "markdown",
   "id": "8ef783d3",
   "metadata": {},
   "source": [
    "# problem 9"
   ]
  },
  {
   "cell_type": "markdown",
   "id": "3fd5595c",
   "metadata": {},
   "source": [
    "repetition of problem 4"
   ]
  },
  {
   "cell_type": "markdown",
   "id": "971dba49",
   "metadata": {},
   "source": [
    "# problem 10"
   ]
  },
  {
   "cell_type": "markdown",
   "id": "09174624",
   "metadata": {},
   "source": [
    "a) P(Z>1.26) = 1 - P(Z<1.26) = "
   ]
  },
  {
   "cell_type": "code",
   "execution_count": 56,
   "id": "87e23212",
   "metadata": {},
   "outputs": [
    {
     "data": {
      "text/plain": [
       "0.10382999999999998"
      ]
     },
     "execution_count": 56,
     "metadata": {},
     "output_type": "execute_result"
    }
   ],
   "source": [
    "1-0.89617"
   ]
  },
  {
   "cell_type": "markdown",
   "id": "b68c0025",
   "metadata": {},
   "source": [
    "P(Z<-0.86) = 0.19489"
   ]
  },
  {
   "cell_type": "markdown",
   "id": "84329b3a",
   "metadata": {},
   "source": [
    "P(Z>-1.37) = P(Z<1.37) = 0.91466"
   ]
  },
  {
   "cell_type": "markdown",
   "id": "3b212e40",
   "metadata": {},
   "source": [
    "P(−1.25 < Z < 0.37) = P(Z < 0.37) - P(Z < -1.25)"
   ]
  },
  {
   "cell_type": "code",
   "execution_count": 57,
   "id": "e8f2c330",
   "metadata": {},
   "outputs": [
    {
     "data": {
      "text/plain": [
       "0.53866"
      ]
     },
     "execution_count": 57,
     "metadata": {},
     "output_type": "execute_result"
    }
   ],
   "source": [
    "0.64431-0.10565"
   ]
  },
  {
   "cell_type": "markdown",
   "id": "682ad5c6",
   "metadata": {},
   "source": [
    "P(Z<-4.6) =0.00002"
   ]
  },
  {
   "cell_type": "markdown",
   "id": "741a1a5f",
   "metadata": {},
   "source": [
    "b) P(Z > z) = 0.05\n",
    "so P(Z < z) = 1- 0.05 = 0.95 \n",
    "z = 1.65"
   ]
  },
  {
   "cell_type": "markdown",
   "id": "c839c5ed",
   "metadata": {},
   "source": [
    "c) P(−z < Z < z) = 0.99 "
   ]
  },
  {
   "cell_type": "code",
   "execution_count": 58,
   "id": "b94db1dc",
   "metadata": {},
   "outputs": [
    {
     "data": {
      "text/plain": [
       "0.010000000000000009"
      ]
     },
     "execution_count": 58,
     "metadata": {},
     "output_type": "execute_result"
    }
   ],
   "source": [
    "1-0.99"
   ]
  },
  {
   "cell_type": "code",
   "execution_count": 60,
   "id": "cfbefcfc",
   "metadata": {},
   "outputs": [
    {
     "data": {
      "text/plain": [
       "0.005"
      ]
     },
     "execution_count": 60,
     "metadata": {},
     "output_type": "execute_result"
    }
   ],
   "source": [
    "0.01/2"
   ]
  },
  {
   "cell_type": "markdown",
   "id": "41a89aa9",
   "metadata": {},
   "source": [
    "P(Z<z) = 0.005 \n",
    "z = -2.57"
   ]
  },
  {
   "cell_type": "markdown",
   "id": "ab13f741",
   "metadata": {},
   "source": [
    "# problem 11"
   ]
  },
  {
   "cell_type": "markdown",
   "id": "84feb095",
   "metadata": {},
   "source": [
    "P(X>13) \n",
    "z = (x - mu)/sigma"
   ]
  },
  {
   "cell_type": "code",
   "execution_count": 62,
   "id": "900dd3e9",
   "metadata": {},
   "outputs": [],
   "source": [
    "z = (13-10)/m.sqrt(4)"
   ]
  },
  {
   "cell_type": "code",
   "execution_count": 63,
   "id": "2508f619",
   "metadata": {},
   "outputs": [
    {
     "data": {
      "text/plain": [
       "1.5"
      ]
     },
     "execution_count": 63,
     "metadata": {},
     "output_type": "execute_result"
    }
   ],
   "source": [
    "P(Z>z) = P(Z>1.5) = 1 - P(Z<1.5)"
   ]
  },
  {
   "cell_type": "code",
   "execution_count": 65,
   "id": "05403b60",
   "metadata": {},
   "outputs": [],
   "source": [
    "p_current = 1-0.93319"
   ]
  },
  {
   "cell_type": "code",
   "execution_count": 69,
   "id": "657c3da5",
   "metadata": {},
   "outputs": [
    {
     "name": "stdout",
     "output_type": "stream",
     "text": [
      "probability that a current measurement will exceed 13 mA is 0.06681000000000004\n"
     ]
    }
   ],
   "source": [
    "print('probability that a current measurement will exceed 13 mA is', p_current)"
   ]
  },
  {
   "cell_type": "code",
   "execution_count": 70,
   "id": "1c576bae",
   "metadata": {},
   "outputs": [],
   "source": [
    "z1 = (9-10)/2"
   ]
  },
  {
   "cell_type": "code",
   "execution_count": 71,
   "id": "65e65499",
   "metadata": {},
   "outputs": [],
   "source": [
    "z2 = (11-10)/2"
   ]
  },
  {
   "cell_type": "code",
   "execution_count": 74,
   "id": "306c0988",
   "metadata": {},
   "outputs": [
    {
     "data": {
      "text/plain": [
       "0.5"
      ]
     },
     "execution_count": 74,
     "metadata": {},
     "output_type": "execute_result"
    }
   ],
   "source": [
    "z2"
   ]
  },
  {
   "cell_type": "markdown",
   "id": "a5d2f832",
   "metadata": {},
   "source": [
    "P(9<X<11) = P(-0.5<z<0.5) = P(z<0.5) - P(z<-0.5)"
   ]
  },
  {
   "cell_type": "code",
   "execution_count": 76,
   "id": "81560508",
   "metadata": {},
   "outputs": [],
   "source": [
    "p_2 = 0.69146-0.30854"
   ]
  },
  {
   "cell_type": "code",
   "execution_count": 77,
   "id": "a5c8d088",
   "metadata": {},
   "outputs": [
    {
     "name": "stdout",
     "output_type": "stream",
     "text": [
      "probability that a current measurement is between 9 and 11mA is 0.38292\n"
     ]
    }
   ],
   "source": [
    "print('probability that a current measurement is between 9 and 11mA is', p_2)"
   ]
  },
  {
   "cell_type": "markdown",
   "id": "d96c5387",
   "metadata": {},
   "source": [
    "P(X ) = P(Z<z) = 0.98\n",
    "z = 2.06 from z table"
   ]
  },
  {
   "cell_type": "code",
   "execution_count": 80,
   "id": "9b2ec03d",
   "metadata": {},
   "outputs": [],
   "source": [
    "xval = 2*2.06+10"
   ]
  },
  {
   "cell_type": "code",
   "execution_count": 82,
   "id": "07279bfb",
   "metadata": {},
   "outputs": [
    {
     "name": "stdout",
     "output_type": "stream",
     "text": [
      "current measurement which has a probability of 0.98 is  14.120000000000001 mA\n"
     ]
    }
   ],
   "source": [
    "print('current measurement which has a probability of 0.98 is ',xval, 'mA')"
   ]
  },
  {
   "cell_type": "markdown",
   "id": "7c8842c9",
   "metadata": {},
   "source": [
    "# problem 12"
   ]
  },
  {
   "cell_type": "code",
   "execution_count": 83,
   "id": "fc048598",
   "metadata": {},
   "outputs": [],
   "source": [
    "xlower = 0.25-0.0015"
   ]
  },
  {
   "cell_type": "code",
   "execution_count": 87,
   "id": "89fa35aa",
   "metadata": {},
   "outputs": [],
   "source": [
    "zlower = (xlower-0.2508)/0.0005"
   ]
  },
  {
   "cell_type": "code",
   "execution_count": 85,
   "id": "6efc15d6",
   "metadata": {},
   "outputs": [],
   "source": [
    "xupper = 0.25+0.0015"
   ]
  },
  {
   "cell_type": "code",
   "execution_count": 88,
   "id": "736ee85c",
   "metadata": {},
   "outputs": [],
   "source": [
    "zupper = (xupper-0.2508)/0.0005"
   ]
  },
  {
   "cell_type": "markdown",
   "id": "9a9161b8",
   "metadata": {},
   "source": [
    "P(zlower<Z<zupper) = P(-4.6<Z<1.4) = P(Z<1.4) - P(Z<-4.6)"
   ]
  },
  {
   "cell_type": "code",
   "execution_count": 92,
   "id": "5d046ca5",
   "metadata": {},
   "outputs": [],
   "source": [
    "p_sync = 0.91924-0.00002"
   ]
  },
  {
   "cell_type": "code",
   "execution_count": 93,
   "id": "94ab55ca",
   "metadata": {},
   "outputs": [
    {
     "name": "stdout",
     "output_type": "stream",
     "text": [
      "proportion of shafts are in sync with the specifications is 0.9192199999999999\n"
     ]
    }
   ],
   "source": [
    "print('proportion of shafts are in sync with the specifications is', p_sync)"
   ]
  },
  {
   "cell_type": "code",
   "execution_count": 94,
   "id": "1b126a9e",
   "metadata": {},
   "outputs": [],
   "source": [
    "z_low_2 = (xlower-0.25)/0.0005"
   ]
  },
  {
   "cell_type": "code",
   "execution_count": 95,
   "id": "2bf06833",
   "metadata": {},
   "outputs": [],
   "source": [
    "z_upp_2 = (xupper-0.25)/0.0005"
   ]
  },
  {
   "cell_type": "code",
   "execution_count": 96,
   "id": "fdbdd487",
   "metadata": {},
   "outputs": [
    {
     "data": {
      "text/plain": [
       "-3.0000000000000027"
      ]
     },
     "execution_count": 96,
     "metadata": {},
     "output_type": "execute_result"
    }
   ],
   "source": [
    "z_low_2"
   ]
  },
  {
   "cell_type": "code",
   "execution_count": 97,
   "id": "e96ed814",
   "metadata": {},
   "outputs": [
    {
     "data": {
      "text/plain": [
       "3.0000000000000027"
      ]
     },
     "execution_count": 97,
     "metadata": {},
     "output_type": "execute_result"
    }
   ],
   "source": [
    "z_upp_2"
   ]
  },
  {
   "cell_type": "markdown",
   "id": "799033a2",
   "metadata": {},
   "source": [
    "P(-3<Z<3) = P(Z<3) - P(<-3)"
   ]
  },
  {
   "cell_type": "code",
   "execution_count": 99,
   "id": "5fd9e2c7",
   "metadata": {},
   "outputs": [],
   "source": [
    "p_chng = 0.99865-0.00135"
   ]
  },
  {
   "cell_type": "code",
   "execution_count": 100,
   "id": "12456508",
   "metadata": {},
   "outputs": [
    {
     "name": "stdout",
     "output_type": "stream",
     "text": [
      "proportion of shafts conform to the new specifications is 0.9973000000000001\n"
     ]
    }
   ],
   "source": [
    "print('proportion of shafts conform to the new specifications is', p_chng)"
   ]
  },
  {
   "cell_type": "markdown",
   "id": "c2f21f9a",
   "metadata": {},
   "source": [
    "if mean changed from 0.2508 to 0.25, proportion in sync increases from 92% to 99.7%"
   ]
  },
  {
   "cell_type": "code",
   "execution_count": null,
   "id": "a284e018",
   "metadata": {},
   "outputs": [],
   "source": []
  }
 ],
 "metadata": {
  "kernelspec": {
   "display_name": "Python 3",
   "language": "python",
   "name": "python3"
  },
  "language_info": {
   "codemirror_mode": {
    "name": "ipython",
    "version": 3
   },
   "file_extension": ".py",
   "mimetype": "text/x-python",
   "name": "python",
   "nbconvert_exporter": "python",
   "pygments_lexer": "ipython3",
   "version": "3.8.8"
  }
 },
 "nbformat": 4,
 "nbformat_minor": 5
}
