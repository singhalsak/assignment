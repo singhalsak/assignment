{
 "cells": [
  {
   "cell_type": "markdown",
   "id": "0bdfcc8d",
   "metadata": {},
   "source": [
    "# problem 1"
   ]
  },
  {
   "cell_type": "code",
   "execution_count": 9,
   "id": "9d3da90e",
   "metadata": {},
   "outputs": [],
   "source": [
    "import scipy.stats\n"
   ]
  },
  {
   "cell_type": "code",
   "execution_count": 10,
   "id": "79d68d63",
   "metadata": {},
   "outputs": [
    {
     "name": "stdout",
     "output_type": "stream",
     "text": [
      "z score = 3.2\n",
      "confidence interval -1.9599639845400545 and 1.9599639845400545\n"
     ]
    }
   ],
   "source": [
    "p_mean = 100\n",
    "p_std = 15\n",
    "n= 36\n",
    "s_mean = 108\n",
    "z_score = (s_mean-p_mean)/(p_std/n**0.5)\n",
    "print('z score =', z_score)\n",
    "alpha =0.05\n",
    "print('confidence interval', scipy.stats.norm.ppf(alpha/2), 'and', -scipy.stats.norm.ppf(alpha/2))"
   ]
  },
  {
   "cell_type": "markdown",
   "id": "737078f5",
   "metadata": {},
   "source": [
    "reject null hypothesis. cornstarch does not have any effect "
   ]
  },
  {
   "cell_type": "markdown",
   "id": "3a22f653",
   "metadata": {},
   "source": [
    "# problem 2"
   ]
  },
  {
   "cell_type": "code",
   "execution_count": 14,
   "id": "9e320426",
   "metadata": {},
   "outputs": [
    {
     "name": "stdout",
     "output_type": "stream",
     "text": [
      "z score = -0.7080278164104213\n",
      "probability of p(r2)>p(r1) = 0.23946399182220013\n"
     ]
    }
   ],
   "source": [
    "r1 = 0.52\n",
    "d1 = 0.48\n",
    "n1 = 100\n",
    "r2 = 0.47\n",
    "d2 = 0.53\n",
    "n2 = 100\n",
    "\n",
    "r_mean = r1 -r2\n",
    "r_std = ((r1*d1/n1)+(r2*d2/n2))**0.5\n",
    "#probability p(r2)>p(r1) means r1-r2 <0 so take r1=r2 = 0\n",
    "x = 0\n",
    "z_score = (x-r_mean)/r_std\n",
    "print('z score =', z_score)\n",
    "p_val = scipy.stats.norm.sf(abs(z_score)) \n",
    "print('probability of p(r2)>p(r1) =', p_val)"
   ]
  },
  {
   "cell_type": "markdown",
   "id": "757b41a0",
   "metadata": {},
   "source": [
    "# problem 3"
   ]
  },
  {
   "cell_type": "code",
   "execution_count": 20,
   "id": "909fbbbb",
   "metadata": {},
   "outputs": [
    {
     "name": "stdout",
     "output_type": "stream",
     "text": [
      "z score= 0.35406698564593303\n",
      "range of x is 817 and 1235\n"
     ]
    }
   ],
   "source": [
    "x = 1100\n",
    "x_mean = 1026\n",
    "x_std = 209\n",
    "z = (x-x_mean)/x_std\n",
    "print('z score=', z)\n",
    "lpha =0.05\n",
    "print('range of x is', x_mean -x_std, 'and', x_mean+x_std)"
   ]
  },
  {
   "cell_type": "code",
   "execution_count": null,
   "id": "db1aa63b",
   "metadata": {},
   "outputs": [],
   "source": []
  }
 ],
 "metadata": {
  "kernelspec": {
   "display_name": "Python 3",
   "language": "python",
   "name": "python3"
  },
  "language_info": {
   "codemirror_mode": {
    "name": "ipython",
    "version": 3
   },
   "file_extension": ".py",
   "mimetype": "text/x-python",
   "name": "python",
   "nbconvert_exporter": "python",
   "pygments_lexer": "ipython3",
   "version": "3.8.8"
  }
 },
 "nbformat": 4,
 "nbformat_minor": 5
}
