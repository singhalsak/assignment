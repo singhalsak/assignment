{
 "cells": [
  {
   "cell_type": "code",
   "execution_count": 129,
   "id": "2d58f5b6",
   "metadata": {},
   "outputs": [],
   "source": [
    "class triangle():\n",
    "    def __init__(self,a,b,c):\n",
    "        self.a = a\n",
    "        self.b = b\n",
    "        self.c = c \n",
    "    @classmethod\n",
    "    def fun_len(cls):\n",
    "        a = float(input('a='))\n",
    "        b = float(input('b='))\n",
    "        c = float(input('c='))\n",
    "        return cls(a, b, c)\n",
    "    \n",
    "class area(triangle):\n",
    "    def __init__(self, a,b,c):\n",
    "        triangle.__init__(self,a,b,c)     \n",
    "   \n",
    "    def fun_area(self):\n",
    "        s = (self.a+self.b+self.c)/2\n",
    "        return ((s*(s-self.a)*(s-self.b)*(s-self.c)) ** 0.5)\n",
    "        "
   ]
  },
  {
   "cell_type": "code",
   "execution_count": 130,
   "id": "b1e9d47f",
   "metadata": {},
   "outputs": [
    {
     "name": "stdout",
     "output_type": "stream",
     "text": [
      "a=1.2\n",
      "b=2.3\n",
      "c=3.4\n"
     ]
    }
   ],
   "source": [
    "x =area.fun_len()"
   ]
  },
  {
   "cell_type": "code",
   "execution_count": 131,
   "id": "085f33a2",
   "metadata": {},
   "outputs": [
    {
     "data": {
      "text/plain": [
       "0.6680896272207812"
      ]
     },
     "execution_count": 131,
     "metadata": {},
     "output_type": "execute_result"
    }
   ],
   "source": [
    "x.fun_area()"
   ]
  },
  {
   "cell_type": "code",
   "execution_count": 69,
   "id": "a2eb8e8a",
   "metadata": {},
   "outputs": [],
   "source": [
    "def filter_long_words(words, n):\n",
    "    word_lst = []\n",
    "    for word in words:\n",
    "        if len(word)> n:\n",
    "            word_lst.append(word)\n",
    "    return word_lst\n",
    "        \n"
   ]
  },
  {
   "cell_type": "code",
   "execution_count": 70,
   "id": "d36dd0a9",
   "metadata": {},
   "outputs": [
    {
     "data": {
      "text/plain": [
       "['ineuron', 'course', 'batch']"
      ]
     },
     "execution_count": 70,
     "metadata": {},
     "output_type": "execute_result"
    }
   ],
   "source": [
    "filter_long_words(['ineuron', 'mldl', 'course', 'batch'],4)"
   ]
  },
  {
   "cell_type": "code",
   "execution_count": 71,
   "id": "1660f877",
   "metadata": {},
   "outputs": [],
   "source": [
    "def word_len(words):\n",
    "    wrd_len = []\n",
    "    for word in words:\n",
    "        l = len(word)\n",
    "        wrd_len.append(l)\n",
    "    return wrd_len\n",
    "        \n",
    "        "
   ]
  },
  {
   "cell_type": "code",
   "execution_count": 72,
   "id": "2bf3c098",
   "metadata": {},
   "outputs": [
    {
     "data": {
      "text/plain": [
       "[2, 3, 4]"
      ]
     },
     "execution_count": 72,
     "metadata": {},
     "output_type": "execute_result"
    }
   ],
   "source": [
    "word_len(['ab', 'cde', 'fghi'])"
   ]
  },
  {
   "cell_type": "code",
   "execution_count": 78,
   "id": "3fcc4fc1",
   "metadata": {},
   "outputs": [],
   "source": [
    "def vowel_check(ch):\n",
    "    ch = ch.lower()\n",
    "    if ch =='a' or ch =='e' or ch=='i' or ch=='o' or ch=='u':\n",
    "        return True\n",
    "    else:\n",
    "        return False\n",
    "    "
   ]
  },
  {
   "cell_type": "code",
   "execution_count": 79,
   "id": "d3ebb1bc",
   "metadata": {},
   "outputs": [
    {
     "data": {
      "text/plain": [
       "True"
      ]
     },
     "execution_count": 79,
     "metadata": {},
     "output_type": "execute_result"
    }
   ],
   "source": [
    "vowel_check('a')"
   ]
  },
  {
   "cell_type": "code",
   "execution_count": 80,
   "id": "a96e42c4",
   "metadata": {},
   "outputs": [
    {
     "data": {
      "text/plain": [
       "False"
      ]
     },
     "execution_count": 80,
     "metadata": {},
     "output_type": "execute_result"
    }
   ],
   "source": [
    "vowel_check('b')"
   ]
  },
  {
   "cell_type": "code",
   "execution_count": 82,
   "id": "abe21b7c",
   "metadata": {},
   "outputs": [
    {
     "data": {
      "text/plain": [
       "True"
      ]
     },
     "execution_count": 82,
     "metadata": {},
     "output_type": "execute_result"
    }
   ],
   "source": [
    "vowel_check('A')"
   ]
  },
  {
   "cell_type": "code",
   "execution_count": null,
   "id": "260883c4",
   "metadata": {},
   "outputs": [],
   "source": []
  }
 ],
 "metadata": {
  "kernelspec": {
   "display_name": "Python 3",
   "language": "python",
   "name": "python3"
  },
  "language_info": {
   "codemirror_mode": {
    "name": "ipython",
    "version": 3
   },
   "file_extension": ".py",
   "mimetype": "text/x-python",
   "name": "python",
   "nbconvert_exporter": "python",
   "pygments_lexer": "ipython3",
   "version": "3.8.8"
  }
 },
 "nbformat": 4,
 "nbformat_minor": 5
}
