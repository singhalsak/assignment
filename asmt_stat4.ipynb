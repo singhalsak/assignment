{
 "cells": [
  {
   "cell_type": "code",
   "execution_count": 84,
   "id": "12979ab5",
   "metadata": {},
   "outputs": [],
   "source": [
    "import pandas as pd\n",
    "import numpy as np\n",
    "import scipy.stats"
   ]
  },
  {
   "cell_type": "markdown",
   "id": "bb34c369",
   "metadata": {},
   "source": [
    "# problem 1"
   ]
  },
  {
   "cell_type": "code",
   "execution_count": 93,
   "id": "afc81bd9",
   "metadata": {},
   "outputs": [],
   "source": [
    "f_list = [60,54,46,41]\n",
    "m_list = [40,44,53,57]\n",
    "col_total = [f_list[i]+m_list[i] for i in range(len(f_list))]\n",
    "row_total = [sum(i) for i in [f_list,m_list,col_total]]\n",
    "f_list.append(row_total[0])\n",
    "m_list.append(row_total[1])\n",
    "col_total.append(row_total[2])"
   ]
  },
  {
   "cell_type": "code",
   "execution_count": 94,
   "id": "2d54028c",
   "metadata": {},
   "outputs": [
    {
     "data": {
      "text/html": [
       "<div>\n",
       "<style scoped>\n",
       "    .dataframe tbody tr th:only-of-type {\n",
       "        vertical-align: middle;\n",
       "    }\n",
       "\n",
       "    .dataframe tbody tr th {\n",
       "        vertical-align: top;\n",
       "    }\n",
       "\n",
       "    .dataframe thead th {\n",
       "        text-align: right;\n",
       "    }\n",
       "</style>\n",
       "<table border=\"1\" class=\"dataframe\">\n",
       "  <thead>\n",
       "    <tr style=\"text-align: right;\">\n",
       "      <th></th>\n",
       "      <th>High School</th>\n",
       "      <th>Bachelors</th>\n",
       "      <th>Masters</th>\n",
       "      <th>Ph.d.</th>\n",
       "      <th>Row Total</th>\n",
       "    </tr>\n",
       "  </thead>\n",
       "  <tbody>\n",
       "    <tr>\n",
       "      <th>Female</th>\n",
       "      <td>60</td>\n",
       "      <td>54</td>\n",
       "      <td>46</td>\n",
       "      <td>41</td>\n",
       "      <td>201</td>\n",
       "    </tr>\n",
       "    <tr>\n",
       "      <th>Male</th>\n",
       "      <td>40</td>\n",
       "      <td>44</td>\n",
       "      <td>53</td>\n",
       "      <td>57</td>\n",
       "      <td>194</td>\n",
       "    </tr>\n",
       "    <tr>\n",
       "      <th>Col Total</th>\n",
       "      <td>100</td>\n",
       "      <td>98</td>\n",
       "      <td>99</td>\n",
       "      <td>98</td>\n",
       "      <td>395</td>\n",
       "    </tr>\n",
       "  </tbody>\n",
       "</table>\n",
       "</div>"
      ],
      "text/plain": [
       "           High School  Bachelors  Masters  Ph.d.  Row Total\n",
       "Female              60         54       46     41        201\n",
       "Male                40         44       53     57        194\n",
       "Col Total          100         98       99     98        395"
      ]
     },
     "execution_count": 94,
     "metadata": {},
     "output_type": "execute_result"
    }
   ],
   "source": [
    "df = pd.DataFrame([f_list,m_list,col_total], columns=['High School', 'Bachelors' ,'Masters' ,'Ph.d.' ,'Row Total'])\n",
    "df.index = ['Female', 'Male', 'Col Total']\n",
    "df"
   ]
  },
  {
   "cell_type": "code",
   "execution_count": 97,
   "id": "9278cae6",
   "metadata": {},
   "outputs": [
    {
     "data": {
      "text/html": [
       "<div>\n",
       "<style scoped>\n",
       "    .dataframe tbody tr th:only-of-type {\n",
       "        vertical-align: middle;\n",
       "    }\n",
       "\n",
       "    .dataframe tbody tr th {\n",
       "        vertical-align: top;\n",
       "    }\n",
       "\n",
       "    .dataframe thead th {\n",
       "        text-align: right;\n",
       "    }\n",
       "</style>\n",
       "<table border=\"1\" class=\"dataframe\">\n",
       "  <thead>\n",
       "    <tr style=\"text-align: right;\">\n",
       "      <th></th>\n",
       "      <th>High School</th>\n",
       "      <th>Bachelors</th>\n",
       "      <th>Masters</th>\n",
       "      <th>Ph.d.</th>\n",
       "    </tr>\n",
       "  </thead>\n",
       "  <tbody>\n",
       "    <tr>\n",
       "      <th>Female</th>\n",
       "      <td>60</td>\n",
       "      <td>54</td>\n",
       "      <td>46</td>\n",
       "      <td>41</td>\n",
       "    </tr>\n",
       "    <tr>\n",
       "      <th>Male</th>\n",
       "      <td>40</td>\n",
       "      <td>44</td>\n",
       "      <td>53</td>\n",
       "      <td>57</td>\n",
       "    </tr>\n",
       "  </tbody>\n",
       "</table>\n",
       "</div>"
      ],
      "text/plain": [
       "        High School  Bachelors  Masters  Ph.d.\n",
       "Female           60         54       46     41\n",
       "Male             40         44       53     57"
      ]
     },
     "execution_count": 97,
     "metadata": {},
     "output_type": "execute_result"
    }
   ],
   "source": [
    "f_obs = df.iloc[0:2, 0:4]\n",
    "f_obs"
   ]
  },
  {
   "cell_type": "code",
   "execution_count": 98,
   "id": "5c8b773e",
   "metadata": {},
   "outputs": [
    {
     "data": {
      "text/html": [
       "<div>\n",
       "<style scoped>\n",
       "    .dataframe tbody tr th:only-of-type {\n",
       "        vertical-align: middle;\n",
       "    }\n",
       "\n",
       "    .dataframe tbody tr th {\n",
       "        vertical-align: top;\n",
       "    }\n",
       "\n",
       "    .dataframe thead th {\n",
       "        text-align: right;\n",
       "    }\n",
       "</style>\n",
       "<table border=\"1\" class=\"dataframe\">\n",
       "  <thead>\n",
       "    <tr style=\"text-align: right;\">\n",
       "      <th></th>\n",
       "      <th>High School</th>\n",
       "      <th>Bachelors</th>\n",
       "      <th>Masters</th>\n",
       "      <th>Ph.d.</th>\n",
       "    </tr>\n",
       "  </thead>\n",
       "  <tbody>\n",
       "    <tr>\n",
       "      <th>Female</th>\n",
       "      <td>50.886076</td>\n",
       "      <td>49.868354</td>\n",
       "      <td>50.377215</td>\n",
       "      <td>49.868354</td>\n",
       "    </tr>\n",
       "    <tr>\n",
       "      <th>Male</th>\n",
       "      <td>49.113924</td>\n",
       "      <td>48.131646</td>\n",
       "      <td>48.622785</td>\n",
       "      <td>48.131646</td>\n",
       "    </tr>\n",
       "  </tbody>\n",
       "</table>\n",
       "</div>"
      ],
      "text/plain": [
       "        High School  Bachelors    Masters      Ph.d.\n",
       "Female    50.886076  49.868354  50.377215  49.868354\n",
       "Male      49.113924  48.131646  48.622785  48.131646"
      ]
     },
     "execution_count": 98,
     "metadata": {},
     "output_type": "execute_result"
    }
   ],
   "source": [
    "f_exp = np.outer(df[\"Row Total\"][0:2], df.loc[\"Col Total\"][0:4])/df.loc['Col Total'][-1]\n",
    "f_exp = pd.DataFrame(f_exp)\n",
    "f_exp.columns = ['High School', 'Bachelors' ,'Masters' ,'Ph.d.']\n",
    "f_exp.index = ['Female', 'Male']\n",
    "f_exp"
   ]
  },
  {
   "cell_type": "code",
   "execution_count": 100,
   "id": "db93a753",
   "metadata": {},
   "outputs": [
    {
     "name": "stdout",
     "output_type": "stream",
     "text": [
      " chi sqaure statistic= 8.006066246262538\n",
      "critical = 7.814727903251179\n"
     ]
    }
   ],
   "source": [
    "chisq = ((f_obs-f_exp)**2/f_exp).sum().sum()\n",
    "print(' chi sqaure statistic=', chisq)\n",
    "critical = scipy.stats.chi2.ppf(1-.05, df=3)\n",
    "print('critical =', critical)\n",
    "# directly using library\n",
    "# result = scipy.stats.chi2_contingency(f_obs)"
   ]
  },
  {
   "cell_type": "markdown",
   "id": "d559ff92",
   "metadata": {},
   "source": [
    "chi sq stat greater than critical. reject null hypothesis. education level is dependent on gender"
   ]
  },
  {
   "cell_type": "markdown",
   "id": "6c602721",
   "metadata": {},
   "source": [
    "# problem 2"
   ]
  },
  {
   "cell_type": "code",
   "execution_count": 259,
   "id": "a213f9ba",
   "metadata": {},
   "outputs": [
    {
     "data": {
      "text/html": [
       "<div>\n",
       "<style scoped>\n",
       "    .dataframe tbody tr th:only-of-type {\n",
       "        vertical-align: middle;\n",
       "    }\n",
       "\n",
       "    .dataframe tbody tr th {\n",
       "        vertical-align: top;\n",
       "    }\n",
       "\n",
       "    .dataframe thead th {\n",
       "        text-align: right;\n",
       "    }\n",
       "</style>\n",
       "<table border=\"1\" class=\"dataframe\">\n",
       "  <thead>\n",
       "    <tr style=\"text-align: right;\">\n",
       "      <th></th>\n",
       "      <th>sum_sq</th>\n",
       "      <th>df</th>\n",
       "      <th>F</th>\n",
       "      <th>PR</th>\n",
       "      <th>EtaSq</th>\n",
       "      <th>OmegaSq</th>\n",
       "    </tr>\n",
       "  </thead>\n",
       "  <tbody>\n",
       "    <tr>\n",
       "      <th>Group</th>\n",
       "      <td>3022.933333</td>\n",
       "      <td>2</td>\n",
       "      <td>9.747206</td>\n",
       "      <td>0.001166</td>\n",
       "      <td>0.61898</td>\n",
       "      <td>0.538382</td>\n",
       "    </tr>\n",
       "    <tr>\n",
       "      <th>Residuals</th>\n",
       "      <td>1860.800000</td>\n",
       "      <td>12</td>\n",
       "      <td>9.747206</td>\n",
       "      <td>0.001166</td>\n",
       "      <td>0.61898</td>\n",
       "      <td>0.538382</td>\n",
       "    </tr>\n",
       "  </tbody>\n",
       "</table>\n",
       "</div>"
      ],
      "text/plain": [
       "                sum_sq  df         F        PR    EtaSq   OmegaSq\n",
       "Group      3022.933333   2  9.747206  0.001166  0.61898  0.538382\n",
       "Residuals  1860.800000  12  9.747206  0.001166  0.61898  0.538382"
      ]
     },
     "execution_count": 259,
     "metadata": {},
     "output_type": "execute_result"
    }
   ],
   "source": [
    "Group1 = [51, 45, 33, 45, 67]\n",
    "Group2 = [23, 43, 23, 43, 45]\n",
    "Group3 = [56, 76, 74, 87, 56]\n",
    "\n",
    "gp = np.array((Group1,Group2,Group3))\n",
    "df_between = len(gp) - 1\n",
    "df_within = gp.size - len(gp)\n",
    "\n",
    "# sample mean for the groups\n",
    "s_mean = [sum(grp)/len(grp) for grp in [Group1,Group2,Group3]]\n",
    "\n",
    "# Sum of squared deviations from the mean (SS) for the groups and variance calculation\n",
    "ss1 = sum([(x-s_mean[0])**2 for x in Group1])\n",
    "ss2 = sum([(x-s_mean[1])**2 for x in Group2])\n",
    "ss3 = sum([(x-s_mean[2])**2 for x in Group3])\n",
    "var1 = ss1/(len(Group1)-1)\n",
    "var2 = ss2/(len(Group2)-1)\n",
    "var3 = ss3/(len(Group3)-1)\n",
    "\n",
    "ms_error = (var1+var2+var3)/3\n",
    "df_error = df_within\n",
    "ss_error = ms_error*df_error\n",
    "\n",
    "# Intermediate steps in calculating the variance of the sample means\n",
    "grand_mean = sum(s_mean)/len(s_mean)\n",
    "ss_means = sum((x-grand_mean)**2 for x in s_mean)\n",
    "var_means = ss_means/(len(s_mean)-1) \n",
    "ms_between = var_means*5\n",
    "\n",
    "df_group = 3-1\n",
    "ss_group = ms_between*df_group\n",
    "\n",
    "f_stat = ms_between/ms_error\n",
    "\n",
    "\n",
    "pval =scipy.stats.f.pdf(f_stat, df_between, df_within)\n",
    "eta_sqrd = ss_group/(ss_group+ss_error)\n",
    "om_sqrd = (ss_group - (df_between * ms_error))/(ss_group+ss_error + ms_error)\n",
    "\n",
    "SS = np.array((ss_group,ss_error))\n",
    "DF = np.array((df_between, df_error))\n",
    "MS = [ms_between, ms_error]\n",
    "Fval = [f_stat]\n",
    "df = pd.DataFrame(SS, columns=['sum_sq'])\n",
    "df['df'] = DF\n",
    "df['F'] = f_stat\n",
    "df['PR'] = pval\n",
    "df['EtaSq'] = eta_sqrd\n",
    "df['OmegaSq'] = om_sqrd\n",
    "df.index = ['Group', 'Residuals']\n",
    "df"
   ]
  },
  {
   "cell_type": "markdown",
   "id": "cd083655",
   "metadata": {},
   "source": [
    "APA write up \n",
    "F(2,12) = 9.75, p<0.05, eta sqaured = 0.62"
   ]
  },
  {
   "cell_type": "markdown",
   "id": "216db491",
   "metadata": {},
   "source": [
    "# problem 3"
   ]
  },
  {
   "cell_type": "code",
   "execution_count": 263,
   "id": "ee8e68f5",
   "metadata": {},
   "outputs": [
    {
     "name": "stdout",
     "output_type": "stream",
     "text": [
      "f test value = 3.6\n",
      "p value = 0.0943497728424377\n"
     ]
    }
   ],
   "source": [
    "x = [10, 20, 30, 40, 50]\n",
    "y = [5,10,15, 20, 25]\n",
    "statistic, pvalue = scipy.stats.f_oneway(x,y)\n",
    "print('f test value =', statistic)\n",
    "print('p value =', pvalue)"
   ]
  },
  {
   "cell_type": "code",
   "execution_count": null,
   "id": "6f63f296",
   "metadata": {},
   "outputs": [],
   "source": []
  }
 ],
 "metadata": {
  "kernelspec": {
   "display_name": "Python 3",
   "language": "python",
   "name": "python3"
  },
  "language_info": {
   "codemirror_mode": {
    "name": "ipython",
    "version": 3
   },
   "file_extension": ".py",
   "mimetype": "text/x-python",
   "name": "python",
   "nbconvert_exporter": "python",
   "pygments_lexer": "ipython3",
   "version": "3.8.8"
  }
 },
 "nbformat": 4,
 "nbformat_minor": 5
}
