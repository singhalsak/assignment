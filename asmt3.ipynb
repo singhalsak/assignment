{
 "cells": [
  {
   "cell_type": "code",
   "execution_count": 9,
   "id": "72d2c1cb",
   "metadata": {},
   "outputs": [],
   "source": [
    "def myreduce(fun_name, arg_list):\n",
    "    first = arg_list.pop(0)\n",
    "    for second in arg_list:\n",
    "        first = fun_name(first,second)\n",
    "    return first    \n",
    "    "
   ]
  },
  {
   "cell_type": "code",
   "execution_count": 12,
   "id": "f455f52c",
   "metadata": {},
   "outputs": [
    {
     "data": {
      "text/plain": [
       "15"
      ]
     },
     "execution_count": 12,
     "metadata": {},
     "output_type": "execute_result"
    }
   ],
   "source": [
    "my_reduce(lambda a,b : a+b, [1,2,3,4,5])"
   ]
  },
  {
   "cell_type": "code",
   "execution_count": 33,
   "id": "cfb706aa",
   "metadata": {},
   "outputs": [],
   "source": [
    "def my_filter(fun_name, arg_list):\n",
    "    data = []\n",
    "    for ele in arg_list:\n",
    "        if fun_name(ele) is True:\n",
    "            data.append(ele)\n",
    "    return data\n",
    "        "
   ]
  },
  {
   "cell_type": "code",
   "execution_count": 38,
   "id": "ae650a8d",
   "metadata": {},
   "outputs": [
    {
     "data": {
      "text/plain": [
       "[2, 4]"
      ]
     },
     "execution_count": 38,
     "metadata": {},
     "output_type": "execute_result"
    }
   ],
   "source": [
    "my_filter(lambda x : True if x%2==0 else False, [1,2,3,4,5])"
   ]
  },
  {
   "cell_type": "code",
   "execution_count": 70,
   "id": "e7a5acb6",
   "metadata": {},
   "outputs": [
    {
     "name": "stdout",
     "output_type": "stream",
     "text": [
      "['x', 'xx', 'xxx', 'xxxx', 'y', 'yy', 'yyy', 'yyyy', 'z', 'zz', 'zzz', 'zzzz']\n",
      "['x', 'y', 'z', 'xx', 'yy', 'zz', 'xxx', 'yyy', 'zzz', 'xxxx', 'yyyy', 'zzzz']\n"
     ]
    }
   ],
   "source": [
    "l0 = ['x', 'y', 'z']\n",
    "l1 = []\n",
    "l2 = []\n",
    "for i in l0:\n",
    "    for j in range(1,5):\n",
    "        l1.append(i*j)\n",
    "        \n",
    "for j in range(1,5):\n",
    "    for i in l0:\n",
    "        l2.append(i*j)\n",
    "        \n",
    "print(l1)\n",
    "print(l2)"
   ]
  },
  {
   "cell_type": "code",
   "execution_count": 121,
   "id": "cb4992d6",
   "metadata": {},
   "outputs": [
    {
     "name": "stdout",
     "output_type": "stream",
     "text": [
      "[[2], [3], [4], [3], [4], [5], [4], [5], [6]]\n"
     ]
    }
   ],
   "source": [
    "l3 = [2,3,4]\n",
    "l4 = [[i] for i in l3]\n",
    "l5 = [[i+1] for i in l3]\n",
    "l6 = [[i+2] for i in l3]\n",
    "l = l4+l5+l6\n",
    "print(l)"
   ]
  },
  {
   "cell_type": "code",
   "execution_count": 185,
   "id": "b3ec8ae5",
   "metadata": {},
   "outputs": [
    {
     "name": "stdout",
     "output_type": "stream",
     "text": [
      "[[2, 3, 4, 5], [3, 4, 5, 6], [4, 5, 6, 7], [5, 6, 7, 8]]\n"
     ]
    }
   ],
   "source": [
    "s0 = [2,3,4,5]\n",
    "s1 = [i+1 for i in s0]\n",
    "s2 = [i+1 for i in s1]\n",
    "s3 = [i+1 for i in s2]\n",
    "s = [s0]+[s1]+[s2]+[s3]\n",
    "print(s)"
   ]
  },
  {
   "cell_type": "code",
   "execution_count": 189,
   "id": "d07c26c6",
   "metadata": {},
   "outputs": [
    {
     "data": {
      "text/plain": [
       "[(1, 1), (2, 1), (3, 1), (1, 2), (2, 2), (3, 2), (1, 3), (2, 3), (3, 3)]"
      ]
     },
     "execution_count": 189,
     "metadata": {},
     "output_type": "execute_result"
    }
   ],
   "source": [
    "[(x,y) for y in [1,2,3] for x in [1,2,3]]"
   ]
  },
  {
   "cell_type": "code",
   "execution_count": null,
   "id": "36386c11",
   "metadata": {},
   "outputs": [],
   "source": []
  }
 ],
 "metadata": {
  "kernelspec": {
   "display_name": "Python 3",
   "language": "python",
   "name": "python3"
  },
  "language_info": {
   "codemirror_mode": {
    "name": "ipython",
    "version": 3
   },
   "file_extension": ".py",
   "mimetype": "text/x-python",
   "name": "python",
   "nbconvert_exporter": "python",
   "pygments_lexer": "ipython3",
   "version": "3.8.8"
  }
 },
 "nbformat": 4,
 "nbformat_minor": 5
}
