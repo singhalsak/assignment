{
 "cells": [
  {
   "cell_type": "markdown",
   "id": "015e0fcd",
   "metadata": {},
   "source": [
    "# problem 1"
   ]
  },
  {
   "cell_type": "markdown",
   "id": "40717cb8",
   "metadata": {},
   "source": [
    "1. correct. it tells about population mean. null hypothesis contains equal sign and alternate hypothesis contains not equal sign "
   ]
  },
  {
   "cell_type": "markdown",
   "id": "410cd940",
   "metadata": {},
   "source": [
    "2. no. null hypothesis has inequality whereas alternate hypothesis has equality\n",
    "3. no because it tells about sample statistics and not population data\n",
    "4. no null and alternate hypothesis have equality sign with different values\n",
    "5. no because it tells about sample mean and not population data"
   ]
  },
  {
   "cell_type": "markdown",
   "id": "86b75235",
   "metadata": {},
   "source": [
    "# problem 2"
   ]
  },
  {
   "cell_type": "code",
   "execution_count": null,
   "id": "bcd7cce7",
   "metadata": {},
   "outputs": [],
   "source": [
    "from scipy.stats import norm\n",
    "p_mean = 52\n",
    "p_std = 4.5\n",
    "n = 100\n",
    "s_mean = 52.8\n",
    "z = (s_mean-p_mean)/(p_std/n**0.5)\n",
    "print('z score =', z)\n",
    "alpha =0.05\n",
    "print('confidence interval is', norm.ppf(alpha/2), 'and', -norm.ppf(alpha/2))"
   ]
  },
  {
   "cell_type": "markdown",
   "id": "8da01e76",
   "metadata": {},
   "source": [
    "null hypothesis acceptable because z lies in confidence interval"
   ]
  },
  {
   "cell_type": "markdown",
   "id": "07ba102e",
   "metadata": {},
   "source": [
    "# problem 3"
   ]
  },
  {
   "cell_type": "code",
   "execution_count": null,
   "id": "497b1d88",
   "metadata": {},
   "outputs": [],
   "source": [
    "p3_mean = 34\n",
    "p3_std = 8\n",
    "n_river = 50\n",
    "alp_river = 0.01\n",
    "s3_mean = 32.5\n",
    "z_river = (s3_mean-p3_mean)/(p3_std/n_river**0.5)\n",
    "print('z score =', z_river)\n",
    "print('confidence interval is', norm.ppf(alp_river/2), 'and', -norm.ppf(alp_river/2))"
   ]
  },
  {
   "cell_type": "markdown",
   "id": "d5d628b3",
   "metadata": {},
   "source": [
    "null hypothesis acceptable because z lies in confidence interval"
   ]
  },
  {
   "cell_type": "markdown",
   "id": "6a43136f",
   "metadata": {},
   "source": [
    "# problem 4"
   ]
  },
  {
   "cell_type": "code",
   "execution_count": null,
   "id": "e14bcf13",
   "metadata": {},
   "outputs": [],
   "source": [
    "import numpy as np\n",
    "from scipy.stats import t\n",
    "p4_mean = 1135\n",
    "n_family = 22\n",
    "data_expense = [1008, 812, 1117, 1323, 1308, 1415, 831, 1021, 1287, 851, 930, 730, 699,\n",
    "                872, 913, 944, 954, 987, 1695, 995, 1003, 994]\n",
    "alp_family = 0.5\n",
    "\n",
    "s4_std = np.std(data_expense)\n",
    "s4_mean = np.mean(data_expense)\n",
    "\n",
    "t_family = (s4_mean-p4_mean)/(s4_std/n_family**0.5)\n",
    "print('t test score = ', t_family)\n",
    "dof_family = n_family-1\n",
    "\n",
    "print('confidence interval is', t.ppf(alp_family/2, df = dof_family), 'and', -t.ppf(alp_family/2, df = dof_family))"
   ]
  },
  {
   "cell_type": "markdown",
   "id": "5e433bf9",
   "metadata": {},
   "source": [
    "null hypothesis rejected because t score outside confidence interval"
   ]
  },
  {
   "cell_type": "markdown",
   "id": "faca43cd",
   "metadata": {},
   "source": [
    "# problem 5"
   ]
  },
  {
   "cell_type": "code",
   "execution_count": null,
   "id": "c6f71624",
   "metadata": {},
   "outputs": [],
   "source": [
    "p5_mean = 48432\n",
    "n_income = 400\n",
    "s5_mean = 48574\n",
    "s5_std = 2000\n",
    "p5_std = s5_std\n",
    "z_income = (s5_mean-p5_mean)/(p5_std/n_income**0.5)\n",
    "alp_income = 0.05\n",
    "\n",
    "print('z test score = ', z_income)\n",
    "print('confidence interval is', norm.ppf(alp_income/2), 'and', -norm.ppf(alp_income/2))"
   ]
  },
  {
   "cell_type": "markdown",
   "id": "7a0db4a0",
   "metadata": {},
   "source": [
    "null hypothesis at alpha of 5% accepted as z score value lies within confidence interval"
   ]
  },
  {
   "cell_type": "markdown",
   "id": "94e11bab",
   "metadata": {},
   "source": [
    "# problem 6"
   ]
  },
  {
   "cell_type": "code",
   "execution_count": null,
   "id": "502420de",
   "metadata": {},
   "outputs": [],
   "source": [
    "p6_mean = 32.28\n",
    "n_house = 19\n",
    "alp_house = 0.05\n",
    "s6_mean = 31.67\n",
    "s6_std = 1.29\n",
    "t_house = (s6_mean-p6_mean)/(s6_std/n_house**0.5)\n",
    "dof_house = n_house-1\n",
    "print('t test score = ', t_house)\n",
    "print('confidence interval is', t.ppf(alp_house/2, df = dof_house), 'and', -t.ppf(alp_house/2, df = dof_house))"
   ]
  },
  {
   "cell_type": "markdown",
   "id": "778d7505",
   "metadata": {},
   "source": [
    "null hypothesis accepted as t score within confidence interval, null hypothesis H0 is average price = 32.28, alternate hypothesis is average price not equal to 32.28"
   ]
  },
  {
   "cell_type": "markdown",
   "id": "a3a32be9",
   "metadata": {},
   "source": [
    "# problem 7"
   ]
  },
  {
   "cell_type": "markdown",
   "id": "424df997",
   "metadata": {},
   "source": [
    "# problem 8"
   ]
  },
  {
   "cell_type": "code",
   "execution_count": null,
   "id": "8e8296f2",
   "metadata": {},
   "outputs": [],
   "source": [
    "n8 = 16\n",
    "p8_mean = 10\n",
    "s8_mean = 12\n",
    "s8_std = 1.5\n",
    "t8 = (s8_mean-p8_mean)/(s8_std/n8**0.5)\n",
    "print('t score = ', t8)"
   ]
  },
  {
   "cell_type": "markdown",
   "id": "0ecdbdb2",
   "metadata": {},
   "source": [
    "# problem 9"
   ]
  },
  {
   "cell_type": "code",
   "execution_count": null,
   "id": "3b843041",
   "metadata": {},
   "outputs": [],
   "source": [
    "n9 = 16\n",
    "alp9 = 0.01\n",
    "# 99% samples to fall so 1 -alpha/2 is the probability\n",
    "print('t score =', t.ppf((1-alp9/2), df = n9-1))"
   ]
  },
  {
   "cell_type": "markdown",
   "id": "296ec568",
   "metadata": {},
   "source": [
    "# problem 10"
   ]
  },
  {
   "cell_type": "code",
   "execution_count": null,
   "id": "cf919c76",
   "metadata": {},
   "outputs": [],
   "source": [
    "n10 = 25\n",
    "s10_mean = 60\n",
    "s10_std = 4\n",
    "alp10 = 0.05\n",
    "t10 = t.ppf((1-alp10/2), df = n10 -1)\n",
    "print('t score = ', t10)\n",
    "print('range of t scores for 5% confidence interval', t.ppf(alp10/2, df = n10-1), 'and', -t.ppf(alp10/2, df = n10-1))"
   ]
  },
  {
   "cell_type": "code",
   "execution_count": null,
   "id": "cfe0c928",
   "metadata": {},
   "outputs": [],
   "source": [
    "p10 = t.cdf(0.1, df = n10-1) - t.cdf(-0.05, df = n10-1)\n",
    "print('probability that (−t0.05 <t<t0.10) = ', p10)"
   ]
  },
  {
   "cell_type": "markdown",
   "id": "c6ff6128",
   "metadata": {},
   "source": [
    "# problem 11"
   ]
  },
  {
   "cell_type": "code",
   "execution_count": null,
   "id": "f8260809",
   "metadata": {},
   "outputs": [],
   "source": [
    "n1 = 1200\n",
    "x1 = 452\n",
    "s1 = 212\n",
    "n2 = 800\n",
    "x2 = 523\n",
    "s2 = 185\n",
    "alpha = 0.05\n",
    "#n>30 so z test \n",
    "se = ((s1**2/n1)+(s2**2/n2))**0.5\n",
    "z = (x1-x2)/se\n",
    "print('z score', z)\n",
    "print('confidence interval is', norm.ppf(alpha/2), 'and', -norm.ppf(alpha/2))"
   ]
  },
  {
   "cell_type": "markdown",
   "id": "9f9f4bef",
   "metadata": {},
   "source": [
    "so null hypothesis is rejected as z score lies outside the confidence interval. hence, number of people travelling from Bangalore to\n",
    "Chennai is different from the number of people travelling from Bangalore to Hosur in a week"
   ]
  },
  {
   "cell_type": "markdown",
   "id": "1411e369",
   "metadata": {},
   "source": [
    "# problem 12"
   ]
  },
  {
   "cell_type": "code",
   "execution_count": null,
   "id": "e0137bb5",
   "metadata": {},
   "outputs": [],
   "source": [
    "n1 = 100\n",
    "x1 = 308\n",
    "s1 = 84\n",
    "n2 = 100\n",
    "x2 = 254\n",
    "s2 = 67\n",
    "alpha = 0.05\n",
    "#n>30 so z test \n",
    "se = ((s1**2/n1)+(s2**2/n2))**0.5\n",
    "z = (x1-x2)/se\n",
    "print('z score', z)\n",
    "print('confidence interval is', norm.ppf(alpha/2), 'and', -norm.ppf(alpha/2))"
   ]
  },
  {
   "cell_type": "markdown",
   "id": "8a1fd3fc",
   "metadata": {},
   "source": [
    "so null hypothesis is rejected as z score lies outside the confidence interval. hence, number of people preferring Duracell battery is\n",
    "different from the number of people preferring Energizer battery"
   ]
  },
  {
   "cell_type": "markdown",
   "id": "e8acd292",
   "metadata": {},
   "source": [
    "# problem 13"
   ]
  },
  {
   "cell_type": "code",
   "execution_count": null,
   "id": "181b65be",
   "metadata": {},
   "outputs": [],
   "source": [
    "Price1 = 27.50 \n",
    "n1 = 14\n",
    "x1 = 0.317\n",
    "s1 = 0.12\n",
    "Price2 = 20.00 \n",
    "n2 = 9\n",
    "x2 = 0.21\n",
    "s2 = 0.11\n",
    "\n",
    "# n<30 so t test\n",
    "se = ((((n1-1)*s1**2 + (n2-1)*s2**2)/(n1 + n2 - 2))**0.5)*((1/n1)+(1/n2))**0.5\n",
    "t_stat = (x1-x2)/se\n",
    "if t_stat < 0:\n",
    "    t_stat = -t_stat\n",
    "print('t test score', t_stat)\n",
    "alpha = 0.05\n",
    "print('confidence interval is', t.ppf(alpha/2, df = n1+n2-2-1), 'and', -t.ppf(alpha/2, df = n1+n2-2-1))"
   ]
  },
  {
   "cell_type": "markdown",
   "id": "2469d37f",
   "metadata": {},
   "source": [
    "reject null hypothesis becuase t stat value outside confidence interval. so average sugar price remains same"
   ]
  },
  {
   "cell_type": "markdown",
   "id": "1d01eb24",
   "metadata": {},
   "source": [
    "# problem 14"
   ]
  },
  {
   "cell_type": "code",
   "execution_count": null,
   "id": "6d544762",
   "metadata": {},
   "outputs": [],
   "source": [
    "n1 = 15\n",
    "x1 = 6598 \n",
    "s1 = 844\n",
    "n2 = 12\n",
    "x2 = 6870\n",
    "s2 = 669\n",
    "se = ((((n1-1)*s1**2 + (n2-1)*s2**2)/(n1 + n2 - 2))**0.5)*((1/n1)+(1/n2))**0.5\n",
    "t_stat = (x1-x2)/se\n",
    "if t_stat < 0:\n",
    "    t_stat = -t_stat\n",
    "print('t test score', t_stat)\n",
    "alpha = 0.05\n",
    "print('confidence interval is', t.ppf(alpha/2, df = n1+n2-2-1), 'and', -t.ppf(alpha/2, df = n1+n2-2-1))"
   ]
  },
  {
   "cell_type": "markdown",
   "id": "77a8964b",
   "metadata": {},
   "source": [
    "t test score within confidence interval. so small pricereduction is enough to increase sales of their product"
   ]
  },
  {
   "cell_type": "markdown",
   "id": "b543f435",
   "metadata": {},
   "source": [
    "# problem 15"
   ]
  },
  {
   "cell_type": "code",
   "execution_count": null,
   "id": "a95dde11",
   "metadata": {},
   "outputs": [],
   "source": [
    "n1 = 1000\n",
    "x1 = 53\n",
    "p1 = 0.53\n",
    "n2 = 100\n",
    "x2 = 43\n",
    "p2= 0.53\n",
    "p = (x1+x2)/(n1+n2)\n",
    "z = ((p1-p2)/(p*(1-p)*((1/n1)+(1/n2))))\n",
    "print('z score ', z)\n",
    "print('confidence interval ', norm.ppf(0.05/2), -norm.ppf(0.05/2))"
   ]
  },
  {
   "cell_type": "markdown",
   "id": "d8503de5",
   "metadata": {},
   "source": [
    "z lies within confidence interval so accept null hypothesis equality of banks’ share of the car loan market in\n",
    "1980 and 1995."
   ]
  },
  {
   "cell_type": "markdown",
   "id": "ded478ed",
   "metadata": {},
   "source": [
    "# problem 16"
   ]
  },
  {
   "cell_type": "code",
   "execution_count": null,
   "id": "06cd70c7",
   "metadata": {},
   "outputs": [],
   "source": [
    "n1 = 300\n",
    "x1 = 120\n",
    "p1 = 0.40\n",
    "n2 = 700\n",
    "x2 = 140\n",
    "p2= 0.20\n",
    "#p = (x1+x2)/(n1+n2)\n",
    "d1 = p1*(1-p1)/n1\n",
    "d2 = p2*(1-p2)/n2\n",
    "z = ((p1-p2-0.1)/(d1+d2))**0.5\n",
    "print('z score ', z)\n",
    "print('confidence interval ', -norm.ppf(0.05))"
   ]
  },
  {
   "cell_type": "markdown",
   "id": "83da2928",
   "metadata": {},
   "source": [
    "z score outside confidence interval so null hypothesis rejected. Population proportion is not 10% higher"
   ]
  },
  {
   "cell_type": "markdown",
   "id": "c5567da3",
   "metadata": {},
   "source": [
    "# problem 17"
   ]
  },
  {
   "cell_type": "code",
   "execution_count": null,
   "id": "9612727d",
   "metadata": {},
   "outputs": [],
   "source": [
    "import scipy.stats\n",
    "freq_obs = [16, 20, 25, 14, 29, 28]\n",
    "freq_exp = [22, 22, 22, 22, 22, 22]    \n",
    "alpha = 0.05\n",
    "result = scipy.stats.chisquare(freq_obs,freq_exp)\n",
    "print('chi sqaure test value =', result[0])\n",
    "print('p value=', result[1])\n",
    "\n",
    "critical = scipy.stats.chi2.ppf(1-.05, df=5)\n",
    "print('critical value at alpha = 0.05 is', critical)\n",
    "if result[0]>critical:\n",
    "    print('reject null hypothesis')\n",
    "else:\n",
    "    print('accept null hypothesis')"
   ]
  },
  {
   "cell_type": "markdown",
   "id": "ae3aaede",
   "metadata": {},
   "source": [
    "die is unbiased"
   ]
  },
  {
   "cell_type": "markdown",
   "id": "7a3cb1a0",
   "metadata": {},
   "source": [
    "# problem 18"
   ]
  },
  {
   "cell_type": "code",
   "execution_count": null,
   "id": "6e6c3951",
   "metadata": {},
   "outputs": [],
   "source": [
    "import scipy.stats \n",
    "men_voted = 2792\n",
    "men_notvoted = 1486\n",
    "women_voted = 3591\n",
    "women_notvoted = 2131\n",
    "total_voted = men_voted + women_voted\n",
    "total_notvoted = men_notvoted + women_notvoted\n",
    "total_men = men_voted + men_notvoted\n",
    "total_women = women_voted + women_notvoted\n",
    "total = total_voted + total_notvoted\n",
    "\n",
    "#expected value for men and women who voted\n",
    "expect_men_vote = round((total_voted*total_men)/total)\n",
    "expect_women_vote = round((total_voted*total_women)/total)\n",
    "\n",
    "#expected value for men and women who did not vote\n",
    "expect_men_notvote = round((total_notvoted*total_men)/total)\n",
    "expect_women_notvote = round((total_notvoted*total_women)/total)\n",
    "\n",
    "#chi square test\n",
    "f_obs = [men_voted, men_notvoted, women_voted, women_notvoted]\n",
    "f_exp = [expect_men_vote, expect_men_notvote, expect_women_vote, expect_women_notvote]\n",
    "result = scipy.stats.chisquare(f_obs, f_exp)\n",
    "print('chi sqaure test value =', result[0])\n",
    "critical = scipy.stats.chi2.ppf(1-.05, df=1)\n",
    "print('critical value at alpha = 0.05 is', critical)\n",
    "if result[0]>critical:\n",
    "    print('reject null hypothesis')\n",
    "else:\n",
    "    print('accept null hypothesis')"
   ]
  },
  {
   "cell_type": "markdown",
   "id": "c8a9e8fd",
   "metadata": {},
   "source": [
    "gender and voting are not independent "
   ]
  },
  {
   "cell_type": "markdown",
   "id": "b90e20ac",
   "metadata": {},
   "source": [
    "# problem 19"
   ]
  },
  {
   "cell_type": "code",
   "execution_count": 6,
   "id": "64d6bc05",
   "metadata": {},
   "outputs": [
    {
     "name": "stdout",
     "output_type": "stream",
     "text": [
      "chi square test value 14.96\n",
      "critical value at alpha = 0.04 is 8.31117091082631\n",
      "reject null hypothesis\n"
     ]
    }
   ],
   "source": [
    "import numpy as np\n",
    "f_obs= [41,19,24,16]\n",
    "chisq = 14.96\n",
    "print('chi square test value', chisq)\n",
    "critical = scipy.stats.chi2.ppf(1-.04, df=3)\n",
    "print('critical value at alpha = 0.04 is', critical)\n",
    "if chisq>critical:\n",
    "    print('reject null hypothesis')\n",
    "else:\n",
    "    print('accept null hypothesis')"
   ]
  },
  {
   "cell_type": "markdown",
   "id": "4b9b1cd6",
   "metadata": {},
   "source": [
    "all candidates are not equally popular"
   ]
  },
  {
   "cell_type": "markdown",
   "id": "6332b6e0",
   "metadata": {},
   "source": [
    "# problem 20"
   ]
  },
  {
   "cell_type": "code",
   "execution_count": 5,
   "id": "45df53fb",
   "metadata": {},
   "outputs": [
    {
     "name": "stdout",
     "output_type": "stream",
     "text": [
      "chi square test value 29.6\n",
      "critical value at alpha = 0.04 is 10.025519286562867\n",
      "reject null hypothesis\n"
     ]
    }
   ],
   "source": [
    "chisq = 29.6\n",
    "print('chi square test value', chisq)\n",
    "critical = scipy.stats.chi2.ppf(1-.04, df=4)\n",
    "print('critical value at alpha = 0.04 is', critical)\n",
    "if chisq>critical:\n",
    "    print('reject null hypothesis')\n",
    "else:\n",
    "    print('accept null hypothesis')"
   ]
  },
  {
   "cell_type": "markdown",
   "id": "ace6fd9e",
   "metadata": {},
   "source": [
    "alternate hpyothesis accpeted- There is significant relationship between age and photograph preference"
   ]
  },
  {
   "cell_type": "markdown",
   "id": "3db909e2",
   "metadata": {},
   "source": [
    "# problem 21"
   ]
  },
  {
   "cell_type": "code",
   "execution_count": 8,
   "id": "7bb13f13",
   "metadata": {},
   "outputs": [
    {
     "name": "stdout",
     "output_type": "stream",
     "text": [
      "chi square test value 19.87\n",
      "critical value at alpha = 0.04 is 4.217884587921395\n",
      "reject null hypothesis\n"
     ]
    }
   ],
   "source": [
    "chisq = 19.87\n",
    "print('chi square test value', chisq)\n",
    "critical = scipy.stats.chi2.ppf(1-.04, df=1)\n",
    "print('critical value at alpha = 0.04 is', critical)\n",
    "if chisq>critical:\n",
    "    print('reject null hypothesis')\n",
    "else:\n",
    "    print('accept null hypothesis')"
   ]
  },
  {
   "cell_type": "markdown",
   "id": "8933d232",
   "metadata": {},
   "source": [
    "alternate hypothesis there a significant difference between the \"support\" and \"no support\" conditions in the frequency with which individuals are likely to conform"
   ]
  },
  {
   "cell_type": "markdown",
   "id": "58cb2925",
   "metadata": {},
   "source": [
    "# problem 22"
   ]
  },
  {
   "cell_type": "code",
   "execution_count": 10,
   "id": "38a18cc0",
   "metadata": {},
   "outputs": [
    {
     "name": "stdout",
     "output_type": "stream",
     "text": [
      "chi square test value 10.71\n",
      "critical value at alpha = 0.001 is 13.815510557964274\n",
      "accept null hypothesis\n"
     ]
    }
   ],
   "source": [
    "chisq = 10.71\n",
    "print('chi square test value', chisq)\n",
    "critical = scipy.stats.chi2.ppf(1-.001, df=2)\n",
    "print('critical value at alpha = 0.001 is', critical)\n",
    "if chisq>critical:\n",
    "    print('reject null hypothesis')\n",
    "else:\n",
    "    print('accept null hypothesis')"
   ]
  },
  {
   "cell_type": "markdown",
   "id": "28b37c47",
   "metadata": {},
   "source": [
    "there is no relationship between height and leadership qualities"
   ]
  },
  {
   "cell_type": "markdown",
   "id": "19b35c18",
   "metadata": {},
   "source": [
    "# problem 23"
   ]
  },
  {
   "cell_type": "code",
   "execution_count": 20,
   "id": "26ad66c8",
   "metadata": {},
   "outputs": [
    {
     "name": "stdout",
     "output_type": "stream",
     "text": [
      "chi square test value= 31.61310319407798\n",
      "critical value at alpha = 0.001 is 18.46682695290317\n",
      "reject null hypothesis\n"
     ]
    }
   ],
   "source": [
    "f_obs = np.array([[679,103,114], [63,10,20], [42, 18,25]])\n",
    "result = scipy.stats.chi2_contingency(f_obs)\n",
    "chisq = result[0]\n",
    "print('chi square test value=', chisq)\n",
    "n_rw = 3\n",
    "n_col =3\n",
    "dof = (n_rw-1)*(n_col-1)\n",
    "critical = scipy.stats.chi2.ppf(1-.001, df=dof)\n",
    "print('critical value at alpha = 0.001 is', critical)\n",
    "if chisq>critical:\n",
    "    print('reject null hypothesis')\n",
    "else:\n",
    "    print('accept null hypothesis')"
   ]
  },
  {
   "cell_type": "markdown",
   "id": "4171f5fb",
   "metadata": {},
   "source": [
    "Men of different marital status have different distributions of labor force status"
   ]
  },
  {
   "cell_type": "code",
   "execution_count": null,
   "id": "eccf78c0",
   "metadata": {},
   "outputs": [],
   "source": []
  }
 ],
 "metadata": {
  "kernelspec": {
   "display_name": "Python 3",
   "language": "python",
   "name": "python3"
  },
  "language_info": {
   "codemirror_mode": {
    "name": "ipython",
    "version": 3
   },
   "file_extension": ".py",
   "mimetype": "text/x-python",
   "name": "python",
   "nbconvert_exporter": "python",
   "pygments_lexer": "ipython3",
   "version": "3.8.8"
  }
 },
 "nbformat": 4,
 "nbformat_minor": 5
}
