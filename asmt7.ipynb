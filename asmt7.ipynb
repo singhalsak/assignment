{
 "cells": [
  {
   "cell_type": "code",
   "execution_count": 1,
   "id": "e6ec89cd",
   "metadata": {},
   "outputs": [],
   "source": [
    "import numpy as np"
   ]
  },
  {
   "cell_type": "code",
   "execution_count": 14,
   "id": "c0387bce",
   "metadata": {},
   "outputs": [],
   "source": [
    "def VanderMatrix(x,n, increasing):\n",
    "    v = np.empty((len(x),n))\n",
    "    if increasing == True:\n",
    "        for i in range(len(x)):\n",
    "            for j in range(n):\n",
    "                v[i][j] = x[i]**(j)\n",
    "               \n",
    "    else:\n",
    "        for i in range(len(x)):\n",
    "            for j in range(n):\n",
    "                v[i][j] = x[i]**((n-1)-j)\n",
    "          \n",
    "    return v"
   ]
  },
  {
   "cell_type": "code",
   "execution_count": 19,
   "id": "8d567a6a",
   "metadata": {},
   "outputs": [],
   "source": [
    "x=np.array([1,2,3,5])\n",
    "n = 4\n",
    "v =VanderMatrix(x,n,False)"
   ]
  },
  {
   "cell_type": "code",
   "execution_count": 20,
   "id": "251f49b4",
   "metadata": {},
   "outputs": [
    {
     "data": {
      "text/plain": [
       "array([[  1.,   1.,   1.,   1.],\n",
       "       [  8.,   4.,   2.,   1.],\n",
       "       [ 27.,   9.,   3.,   1.],\n",
       "       [125.,  25.,   5.,   1.]])"
      ]
     },
     "execution_count": 20,
     "metadata": {},
     "output_type": "execute_result"
    }
   ],
   "source": [
    "v"
   ]
  },
  {
   "cell_type": "code",
   "execution_count": 31,
   "id": "cf4f508d",
   "metadata": {},
   "outputs": [],
   "source": [
    "def MovingAvg(lst, k):\n",
    "    n = len(lst)\n",
    "    y = []\n",
    "    for i in range(n-k+1):\n",
    "        yi = sum(lst[i:i+4])/4\n",
    "        y.append(yi)\n",
    "    return y\n",
    "        \n",
    "    "
   ]
  },
  {
   "cell_type": "code",
   "execution_count": 32,
   "id": "5d74c83c",
   "metadata": {},
   "outputs": [
    {
     "data": {
      "text/plain": [
       "[25.0, 35.0, 45.0, 55.0, 65.0, 75.0, 85.0]"
      ]
     },
     "execution_count": 32,
     "metadata": {},
     "output_type": "execute_result"
    }
   ],
   "source": [
    "lst = np.arange(10,110,10)\n",
    "MovingAvg(lst,4)"
   ]
  },
  {
   "cell_type": "code",
   "execution_count": 33,
   "id": "4ec1e6a5",
   "metadata": {},
   "outputs": [
    {
     "data": {
      "text/plain": [
       "[4.25, 5.5, 6.75, 7.75, 23.5, 39.5, 57.25, 79.25, 88.0, 107.5, 87.25]"
      ]
     },
     "execution_count": 33,
     "metadata": {},
     "output_type": "execute_result"
    }
   ],
   "source": [
    "test_list = [3, 5, 7, 2, 8, 10, 11, 65, 72, 81, 99, 100, 150]\n",
    "window = 3\n",
    "MovingAvg(test_list, window)"
   ]
  }
 ],
 "metadata": {
  "kernelspec": {
   "display_name": "Python 3",
   "language": "python",
   "name": "python3"
  },
  "language_info": {
   "codemirror_mode": {
    "name": "ipython",
    "version": 3
   },
   "file_extension": ".py",
   "mimetype": "text/x-python",
   "name": "python",
   "nbconvert_exporter": "python",
   "pygments_lexer": "ipython3",
   "version": "3.8.8"
  }
 },
 "nbformat": 4,
 "nbformat_minor": 5
}
